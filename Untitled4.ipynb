{
 "cells": [
  {
   "cell_type": "markdown",
   "id": "d655128a",
   "metadata": {},
   "source": [
    "#1\n",
    "Standard Deviation of the Original Data：\n",
    "This measures the dispersion among data points in the original sample. A larger standard deviation means that the data points are farther from the sample mean, while a smaller standard deviation indicates that they are closer to the sample mean.\n",
    "Standard Error of the Mean (SEM or s subscript x-bar):\n",
    "Standard errors are specifically used to describe the variability and uncertainty of the sample mean.With the increase of sample size, the standard error will gradually decrease.The standard deviation applies to the entire sample or population, while the standard error applies only to the sample mean."
   ]
  },
  {
   "cell_type": "markdown",
   "id": "6781159c",
   "metadata": {},
   "source": [
    "#2\n",
    "The standard error of the mean can be used to construct a 95% confidence interval that contains the true population mean.\n",
    "1. Calculate the standard error of the mean: divide the standard deviation by the square root of the sample size.\n",
    "2. Multiply the standard error of the mean by 1.96, which represents the range that encompasses 95% of the data.\n",
    "3. Add and subtract this product from the sample mean to obtain the lower and upper bounds of the 95% confidence interval."
   ]
  },
  {
   "cell_type": "markdown",
   "id": "c2ecb746",
   "metadata": {},
   "source": [
    "#3\n",
    "The steps to create a 95% confidence interval using the bootstrap method are as follows:\n",
    "\n",
    "1. Generate a large number of bootstrap samples (e.g., 500 or 1000) from the original sample, where each sample is created by randomly selecting data points with replacement and is the same size as the original sample.\n",
    "2. Calculate the mean for each bootstrap sample, forming a distribution of bootstrap sample means.\n",
    "3. Identify the 2.5th and 97.5th percentiles of the bootstrap mean distribution to determine the boundaries of the 95% confidence interval."
   ]
  },
  {
   "cell_type": "markdown",
   "id": "a331e9e7",
   "metadata": {},
   "source": [
    "#4\n",
    "To calculate the confidence interval for other population parameters, such as the median, you only need to replace the statistic being calculated (mean) with the desired one (e.g., median)."
   ]
  },
  {
   "cell_type": "code",
   "execution_count": 3,
   "id": "a5a16abb",
   "metadata": {},
   "outputs": [
    {
     "name": "stdout",
     "output_type": "stream",
     "text": [
      "95% Confidence Interval for the Median: [-7.  2.]\n"
     ]
    }
   ],
   "source": [
    "import numpy as np\n",
    "import pandas as pd\n",
    "\n",
    "# Create a sample\n",
    "data = np.array([1, 2, 2-9])\n",
    "\n",
    "# Number of bootstrap samples\n",
    "n_bootstraps = 500\n",
    "\n",
    "# Create an empty array to store the bootstrapped medians\n",
    "bootstrapped_medians = np.empty(n_bootstraps)\n",
    "\n",
    "# Loop through the specified number of bootstrap samples\n",
    "for i in range(n_bootstraps):\n",
    "    # Create a bootstrap sample by sampling from the original data with replacement\n",
    "    bootstrap_sample = np.random.choice(data, size=len(data), replace=True)\n",
    "    # Calculate the median of the bootstrap sample and store it in the array\n",
    "    bootstrapped_medians[i] = np.median(bootstrap_sample)\n",
    "\n",
    "# Calculate the 95% confidence interval using the np.quantile function\n",
    "confidence_interval_median = np.quantile(bootstrapped_medians, [0.025, 0.975])\n",
    "\n",
    "# Print the confidence interval for the median\n",
    "print(\"95% Confidence Interval for the Median:\", confidence_interval_median)"
   ]
  },
  {
   "cell_type": "markdown",
   "id": "7cfb21e9",
   "metadata": {},
   "source": [
    "#5\n",
    "The population parameter is a fixed but unknown value that describes the characteristics of the entire population, such as the population mean (μ) or standard deviation (σ). Since measuring the entire population is often impractical, statisticians use sample statistics to estimate these parameters, such as the sample mean ($\\bar x$) estimating the population mean (μ). However, there is a difference between sample statistics and population parameters. Confidence intervals are used to quantify the uncertainty of the sample statistics in estimating the population parameters. A 95% confidence interval indicates that we are 95% confident the true population parameter lies within that range. The bootstrap method is an effective technique for creating confidence intervals by repeatedly resampling from the original sample to simulate the sampling distribution of the statistic, thus determining the range that may contain the population parameter."
   ]
  },
  {
   "cell_type": "markdown",
   "id": "6fac83a6",
   "metadata": {},
   "source": [
    "#6\n",
    "Population parameters describe the characteristics of an entire population, such as the average height of all students at a university. However, it is often impractical to measure these parameters directly, so we use sample statistics to estimate them. Sample statistics are calculated from a subset of the population, called a sample. For example, the average height of a randomly selected group of students would be a sample statistic.\n",
    "It is important to note that sample statistics are merely estimates of population parameters, and they are likely to differ from the true population values. This difference arises because the sample is only a portion of the population and includes randomness in the selection of individuals.\n",
    "\n",
    "Confidence intervals help us quantify the uncertainty associated with using a sample statistic to estimate a population parameter. A confidence interval provides a range of values within which we believe the true population parameter likely falls. For instance, a 95% confidence interval for the average height of all students might be 160-170 cm. This means we are 95% confident that the true average height of all students lies somewhere within this range.\n",
    "\n",
    "Bootstrapping is a technique to construct confidence intervals by repeatedly resampling from the original sample. By calculating the sample statistic (e.g., the mean) for each resampled dataset, we can simulate the variability of the statistic and estimate the range within which the true population parameter is likely to fall."
   ]
  },
  {
   "cell_type": "markdown",
   "id": "20539b98",
   "metadata": {},
   "source": [
    "#7\n",
    "When the confidence interval includes zero, the null hypothesis cannot be rejected, even if the observed sample mean is not zero. This is because the confidence interval represents a range of plausible values for the population parameter, and a zero effect (i.e., the drug has no impact on the average effect) is a reasonable explanation for the observed data. The sample mean may not be exactly zero due to random variation, but if the confidence interval is wide enough to include zero, it indicates that the sample mean is not statistically significantly different from zero. For example, if we are testing a drug to lower blood pressure and our 95% confidence interval is from -5 to -1 mmHg, we can reject the null hypothesis because the entire interval is below zero, indicating a statistically significant reduction in blood pressure."
   ]
  },
  {
   "cell_type": "markdown",
   "id": "9b841202",
   "metadata": {},
   "source": [
    "#8\n"
   ]
  },
  {
   "cell_type": "markdown",
   "id": "de0ce8e6",
   "metadata": {},
   "source": [
    "#9\n",
    "Yes"
   ]
  }
 ],
 "metadata": {
  "kernelspec": {
   "display_name": "Python 3 (ipykernel)",
   "language": "python",
   "name": "python3"
  },
  "language_info": {
   "codemirror_mode": {
    "name": "ipython",
    "version": 3
   },
   "file_extension": ".py",
   "mimetype": "text/x-python",
   "name": "python",
   "nbconvert_exporter": "python",
   "pygments_lexer": "ipython3",
   "version": "3.11.6"
  }
 },
 "nbformat": 4,
 "nbformat_minor": 5
}
